{
  "nbformat": 4,
  "nbformat_minor": 0,
  "metadata": {
    "colab": {
      "provenance": []
    },
    "kernelspec": {
      "name": "python3",
      "display_name": "Python 3"
    },
    "language_info": {
      "name": "python"
    }
  },
  "cells": [
    {
      "cell_type": "code",
      "source": [
        "import geopandas as gpd\n",
        "INPUT_FILE = 'BedrockP.gpkg'\n",
        "bedrock_data = gpd.read_file(INPUT_FILE)\n",
        "bedrock_data"
      ],
      "metadata": {
        "id": "D1T5-7sn19XQ"
      },
      "execution_count": null,
      "outputs": []
    },
    {
      "cell_type": "code",
      "source": [
        "import matplotlib.pyplot as plt\n",
        "import numpy as np\n",
        "from shapely.geometry import Point\n",
        "\n",
        "#filtering the rock_type column to contain only 'ultramafic' and 'granodioritic intrusive'\n",
        "df = bedrock_data[bedrock_data['rock_type'].str.contains('ultramafic|granodioritic intrusive')]"
      ],
      "metadata": {
        "id": "Eh_Ytdy_2B5_"
      },
      "execution_count": null,
      "outputs": []
    },
    {
      "cell_type": "code",
      "source": [
        "# (EDA left but commented out) Plotting polygons initially\n",
        "'''\n",
        "fig, ax = plt.subplots()\n",
        "df1.plot(ax=ax, color='blue', alpha=0.5)  # Ultramafic\n",
        "df2.plot(ax=ax, color='red', alpha=0.5)   # Granodioritic\n",
        "'''"
      ],
      "metadata": {
        "id": "C00hIJRt2Pto"
      },
      "execution_count": null,
      "outputs": []
    },
    {
      "cell_type": "code",
      "source": [
        "#EDA exploring the polygon borders/geometries\n",
        "'''\n",
        "bedrock_data['boundary']= bedrock_data.boundary\n",
        "poly1 = bedrock_data['boundary'][0]\n",
        "poly2 = bedrock_data['boundary'][5]\n",
        "d = poly1.boundary.distance(poly2.boundary)\n",
        "print(d)\n",
        "'''"
      ],
      "metadata": {
        "id": "CZcFgE612UVV"
      },
      "execution_count": null,
      "outputs": []
    },
    {
      "cell_type": "code",
      "source": [
        "#(cont'd)\n",
        "'''\n",
        "df = bedrock_data[bedrock_data['rock_type'].str.contains('ultramafic|granodioritic intrusive')]\n",
        "rock1 = df[df['rock_type'].str.contains('ultramafic')]\n",
        "rock2 = df[df['rock_type'].str.contains('granodioritic intrusive')]\n",
        "intersections = rock2[rock2['boundary'].intersects(rock1['boundary'])]\n",
        "intersections\n",
        "'''"
      ],
      "metadata": {
        "id": "4f7mdvDK2YpE"
      },
      "execution_count": null,
      "outputs": []
    },
    {
      "cell_type": "code",
      "execution_count": null,
      "metadata": {
        "id": "cbZdTjuN11z9"
      },
      "outputs": [],
      "source": [
        "# create separate rock type df's\n",
        "df1 = df[df['rock_type'].str.contains('ultramafic')]\n",
        "df2 = df[df['rock_type'].str.contains('granodioritic intrusive')]\n",
        "\n",
        "# for the power function that will determine heatmap intensity fall-off\n",
        "power = 0.5\n",
        "\n",
        "# the fall-off distance(10KM)\n",
        "max_distance = 10 * 10**3  # 10 km in meters\n",
        "\n",
        "# the max. likelihood of finding cobalt, never exactly equal 1\n",
        "max_likelihood = 0.99\n",
        "\n",
        "#find all overlapping andintersecting ultramafic/granodioritic polygons first (highest likelihood, 0 distance)\n",
        "overlap_polygons = gpd.overlay(df1, df2, how='intersection')\n",
        "\n",
        "#generate grid to hold distances\n",
        "xmin, ymin, xmax, ymax = df.total_bounds\n",
        "grid_res = 100\n",
        "grid_x, grid_y = np.mgrid[xmin:xmax:grid_res, ymin:ymax:grid_res]\n",
        "\n",
        "# high value that will give near zero likelihood (distance away from the ultramafic/granodioritic borders)\n",
        "large_distance = 50 * 10**3  # 50 km in meters\n",
        "\n",
        "#compute minimum distances from each grid point to each type of rock\n",
        "intensity = np.full_like(grid_x, large_distance)\n",
        "#can change large_distance to some big big number to avoid grid cutoff, but this substantially increases runtime\n",
        "for i in range(grid_x.shape[0]):\n",
        "    for j in range(grid_x.shape[1]):\n",
        "        point = Point(grid_x[i, j], grid_y[i, j])\n",
        "        min_distance_to_df1 = df1.geometry.distance(point).min()\n",
        "        min_distance_to_df2 = df2.geometry.distance(point).min()\n",
        "        #check if the point is within any overlapping area, if so assign it the highest likelihood\n",
        "        if any(overlap_polygons.geometry.apply(lambda poly: poly.contains(point))):\n",
        "            intensity[i, j] = 0\n",
        "        # If not within an overlapping area, check if the point is near both types of rocks\n",
        "        elif min_distance_to_df1 < max_distance and min_distance_to_df2 < max_distance:\n",
        "            intensity[i, j] = min(min_distance_to_df1, min_distance_to_df2)\n",
        "\n",
        "#normalize intensity\n",
        "intensity_norm = (intensity - intensity.min()) / (intensity.max() - intensity.min())\n",
        "\n",
        "#compute likelihood using power function\n",
        "likelihood = max_likelihood * (1 - intensity_norm ** power)\n",
        "\n",
        "#plotting\n",
        "fig, ax = plt.subplots(figsize=(20, 20))\n",
        "c = ax.pcolormesh(grid_x, grid_y, likelihood, cmap='viridis', shading='auto', alpha=0.5)\n",
        "fig.colorbar(c, ax=ax)\n",
        "df1.boundary.plot(ax=ax, color='blue', label='ultramafic')\n",
        "df2.boundary.plot(ax=ax, color='red', label='granodioritic intrusive')\n",
        "plt.legend()\n",
        "plt.show()\n"
      ]
    }
  ]
}